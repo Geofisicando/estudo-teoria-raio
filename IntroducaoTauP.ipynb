{
 "cells": [
  {
   "cell_type": "markdown",
   "metadata": {},
   "source": [
    "### Introdução ao domínio $\\tau$ x $p$\n",
    "\n",
    "\\begin{equation}\n",
    " \\label{eq:1.23}\n",
    " \\tau(p) = t(p)-px(p)\n",
    "\\end{equation}\n",
    "\n",
    "\\begin{equation}\n",
    " \\label{eq:1.24}\n",
    " \\tau(p) = 2\\int^{z_p}_{0}\\left[ \\frac{u^2}{(u^2-p^2)^{1/2}} - \\frac{p^2}{(u^2-p^2)^{1/2}} dz \\right]\n",
    "\\end{equation}\n",
    "\n",
    "\\begin{equation}\n",
    " \\label{eq:1.25}\n",
    " \\tau(p) = 2\\int^{z_p}_{0} (u^2-p^2)^{1/2} dz = 2\\int^{z_p}_{0}\\eta(z)dz\n",
    "\\end{equation}\n",
    "\n",
    "Na forma discreta:\n",
    "\n",
    "\\begin{equation}\n",
    " \\label{eq:1.26}\n",
    " \\tau(p) = 2\\sum_{i}(u^2_i-p^2)^{1/2} \\Delta z_i = 2\\sum_i \\eta_i \\Delta z_i\n",
    "\\end{equation}\n",
    "\n",
    "A Equação \\ref{eq:1.26} também é válida sob a condição da Equação \\ref{eq:1.17}. Tomando a derivada da \n",
    "Equação \\ref{eq:1.25} em relação ao parâmetro $p$:\n",
    "\n",
    "\\begin{equation}\n",
    " \\label{eq:1.27}\n",
    " \\frac{d\\tau}{dp} = \\frac{d}{dp}2\\int^{z_p}_{0} (u^2-p^2)^{1/2} dz = -2p\\int^{z_p}_{0}\\frac{dz}{(u^2-p^2)^{1/2}}\n",
    "\\end{equation}\n",
    "\n",
    "\\begin{equation}\n",
    " \\label{eq:1.28}\n",
    " \\frac{d\\tau}{dp} = -x(p)\n",
    "\\end{equation}\n",
    "\n",
    "\\begin{equation}\n",
    " \\label{eq:1.29}\n",
    " \\frac{d^2\\tau}{dp^2} = \\frac{d}{dp}(-x) = -\\frac{dx}{dp}\n",
    "\\end{equation}"
   ]
  }
 ],
 "metadata": {
  "kernelspec": {
   "display_name": "Python 3 (ipykernel)",
   "language": "python",
   "name": "python3"
  },
  "language_info": {
   "codemirror_mode": {
    "name": "ipython",
    "version": 3
   },
   "file_extension": ".py",
   "mimetype": "text/x-python",
   "name": "python",
   "nbconvert_exporter": "python",
   "pygments_lexer": "ipython3",
   "version": "3.8.10"
  }
 },
 "nbformat": 4,
 "nbformat_minor": 2
}
