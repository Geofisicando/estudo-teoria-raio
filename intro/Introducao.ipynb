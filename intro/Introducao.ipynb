{
 "cells": [
  {
   "cell_type": "markdown",
   "metadata": {},
   "source": [
    "### Introdução do Popov\n",
    "\n",
    "#### Ray theory\n",
    "\n",
    "The ray method has two main advantages. It provides a physical insight to the wave propagation phenomena in rather complicated geophysical models, by describing the total wave field as a sum of different types of waves generated in the problem under consideration. It gives rise to rather effective and not so time consuming numerical algorithms when compared to the finite difference and finite element methods.\n",
    "\n",
    "On the other hand, the ray method suffers the so-called caustic problems, which means precisely that if the rays associated with the wave propagation problem under investigation touch a surface in 3D (or a curve in 2D), the geometrical spreading vanishes and the ray amplitude becomes singular on it, while the real wave field remains finite and smooth.\n",
    "\n",
    "This surface is called the envelope to the ray field, or the caustic surface. Therefore, the ray method does not correctly describe the wave field in the vicinity of the caustics. Unfortunately, in geophysical models of elastic media the behavior of rays is complicated and they normally form many caustics of different geometrical structures. Thus, the ray method faces serious and unpleasant caustic problems in geophysical applications."
   ]
  },
  {
   "cell_type": "markdown",
   "metadata": {},
   "source": [
    "#### Gaussian beam\n",
    "\n",
    "On the other hand, the Gaussian beam method gives rise to a numerical algorithm for the calculations of the high frequency wave field independently of the position of an observation point. Briefly, it can be explained as follows. To calculate the wave field at an observation point M, we have to cover the vicinity of M by a fan of rays distributed in this vicinity more or less uniformly.\n",
    "\n",
    "For each ray we have to derive a Gaussian beam propagating along the ray and then to sum the contribution of each Gaussian beam to the point M over all rays from the fan. As every Gaussiam beam has no singularity on caustics, the numerical algorithm does not depend on the position of M with respect to a caustic and on the geometrical structure of the caustic. The Gaussian beam method, as a new approach for the computation of wave fields in high frequency approximation, was suggested by M.M. Popov in his theoretical papers - See Popov (1981,1982)."
   ]
  },
  {
   "cell_type": "markdown",
   "metadata": {},
   "source": [
    "#### Paraxial ray theory\n",
    "\n",
    "The main idea of the paraxial ray theory \\[...\\] can be formulated as follows. If we consider a narrow ray tube surrounding a fixed central ray of the tube, we may linearize Euler's equation for the rays from the tube because they are close to the central one. This results in a significant simplification of Euler's equation, and therefore of the whole ray theory built on them.\n",
    "\n",
    "These equations are known in classical mechanics as equations in variations. Of course, that theory remains valid only in the vicinity of the central ray. In fact, the paraxial ray theory was used and developed by specialists in optical resonators for lasers in the 1960s. In particular, the ray centered coordinates, broadly used in (1969) in studies on self oscilations in opened resonators. In geophysics the paraxial approach was firstly used by Popov and Psencik (1978), see also Popov (1977), for the dynamic ray tracing problem."
   ]
  }
 ],
 "metadata": {
  "kernelspec": {
   "display_name": "Python 3 (ipykernel)",
   "language": "python",
   "name": "python3"
  },
  "language_info": {
   "codemirror_mode": {
    "name": "ipython",
    "version": 3
   },
   "file_extension": ".py",
   "mimetype": "text/x-python",
   "name": "python",
   "nbconvert_exporter": "python",
   "pygments_lexer": "ipython3",
   "version": "3.8.10"
  }
 },
 "nbformat": 4,
 "nbformat_minor": 2
}
